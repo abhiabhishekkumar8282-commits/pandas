{
 "cells": [
  {
   "cell_type": "markdown",
   "id": "ac6239bc",
   "metadata": {},
   "source": [
    "a) Read the dataset (CSV) into a Pandas DataFrame."
   ]
  },
  {
   "cell_type": "code",
   "execution_count": 2,
   "id": "2c7e9219",
   "metadata": {},
   "outputs": [
    {
     "name": "stdout",
     "output_type": "stream",
     "text": [
      "   PassengerId  Pclass                                          Name     Sex  \\\n",
      "0          892       3                              Kelly, Mr. James    male   \n",
      "1          893       3              Wilkes, Mrs. James (Ellen Needs)  female   \n",
      "2          894       2                     Myles, Mr. Thomas Francis    male   \n",
      "3          895       3                              Wirz, Mr. Albert    male   \n",
      "4          896       3  Hirvonen, Mrs. Alexander (Helga E Lindqvist)  female   \n",
      "\n",
      "    Age  SibSp  Parch   Ticket     Fare Cabin Embarked  \n",
      "0  34.5      0      0   330911   7.8292   NaN        Q  \n",
      "1  47.0      1      0   363272   7.0000   NaN        S  \n",
      "2  62.0      0      0   240276   9.6875   NaN        Q  \n",
      "3  27.0      0      0   315154   8.6625   NaN        S  \n",
      "4  22.0      1      1  3101298  12.2875   NaN        S  \n"
     ]
    }
   ],
   "source": [
    "import pandas as pd\n",
    "\n",
    "df = pd.read_csv(\"test.csv\")\n",
    "print(df.head())"
   ]
  },
  {
   "cell_type": "markdown",
   "id": "ea92486e",
   "metadata": {},
   "source": [
    "b) Write the loaded DataFrame into two additional formats: (a) Excel (.xlsx)"
   ]
  },
  {
   "cell_type": "code",
   "execution_count": 8,
   "id": "540a421e",
   "metadata": {},
   "outputs": [
    {
     "name": "stdout",
     "output_type": "stream",
     "text": [
      "None\n"
     ]
    }
   ],
   "source": [
    "df_excel=df.to_excel('train_excel.xlsx')\n",
    "print(df_excel)"
   ]
  },
  {
   "cell_type": "code",
   "execution_count": 9,
   "id": "809fc954",
   "metadata": {},
   "outputs": [
    {
     "name": "stdout",
     "output_type": "stream",
     "text": [
      "None\n"
     ]
    }
   ],
   "source": [
    "df_json=df.to_json('new.json')\n",
    "print(df_json)"
   ]
  },
  {
   "cell_type": "markdown",
   "id": "030e8611",
   "metadata": {},
   "source": [
    "c) Read the dataset back from each format (CSV, Excel, JSON) into new DataFrames and verify consistency (e.g., shape, column names, basic value checks)."
   ]
  },
  {
   "cell_type": "code",
   "execution_count": null,
   "id": "2b969e80",
   "metadata": {},
   "outputs": [],
   "source": [
    "df3=pd.read_csv('test.csv')\n",
    "df_json2=pd.read_json('new.json')\n",
    "df_excel2=pd.read_excel('train_excel.xlsx')"
   ]
  },
  {
   "cell_type": "code",
   "execution_count": 15,
   "id": "5079252a",
   "metadata": {},
   "outputs": [
    {
     "name": "stdout",
     "output_type": "stream",
     "text": [
      "CSV_Shape (418, 11)\n",
      "json_Shape (418, 11)\n",
      "excel_shape (418, 12)\n"
     ]
    }
   ],
   "source": [
    "#verify consistency\n",
    "\n",
    "print('CSV_Shape',df3.shape)\n",
    "print('json_Shape',df_json2.shape)\n",
    "print('excel_shape',df_excel2.shape)"
   ]
  },
  {
   "cell_type": "code",
   "execution_count": 23,
   "id": "1926bb32",
   "metadata": {},
   "outputs": [
    {
     "name": "stdout",
     "output_type": "stream",
     "text": [
      "CSV columns ['PassengerId', 'Pclass', 'Name', 'Sex', 'Age', 'SibSp', 'Parch', 'Ticket', 'Fare', 'Cabin', 'Embarked']\n",
      "json columns ['PassengerId', 'Pclass', 'Name', 'Sex', 'Age', 'SibSp', 'Parch', 'Ticket', 'Fare', 'Cabin', 'Embarked']\n",
      "excel columns ['Unnamed: 0', 'PassengerId', 'Pclass', 'Name', 'Sex', 'Age', 'SibSp', 'Parch', 'Ticket', 'Fare', 'Cabin', 'Embarked']\n"
     ]
    }
   ],
   "source": [
    "# columns\n",
    "print('CSV columns',df3.columns.tolist())\n",
    "print('json columns',df_json2.columns.tolist())\n",
    "print('excel columns',df_excel2.columns.tolist())"
   ]
  },
  {
   "cell_type": "code",
   "execution_count": 27,
   "id": "67c02448",
   "metadata": {},
   "outputs": [
    {
     "name": "stdout",
     "output_type": "stream",
     "text": [
      "   PassengerId  Pclass                              Name     Sex   Age  SibSp  \\\n",
      "0          892       3                  Kelly, Mr. James    male  34.5      0   \n",
      "1          893       3  Wilkes, Mrs. James (Ellen Needs)  female  47.0      1   \n",
      "2          894       2         Myles, Mr. Thomas Francis    male  62.0      0   \n",
      "\n",
      "   Parch  Ticket    Fare Cabin Embarked  \n",
      "0      0  330911  7.8292   NaN        Q  \n",
      "1      0  363272  7.0000   NaN        S  \n",
      "2      0  240276  9.6875   NaN        Q  \n",
      "     PassengerId  Pclass                          Name     Sex   Age  SibSp  \\\n",
      "413         1305       3            Spector, Mr. Woolf    male   NaN      0   \n",
      "414         1306       1  Oliva y Ocana, Dona. Fermina  female  39.0      0   \n",
      "415         1307       3  Saether, Mr. Simon Sivertsen    male  38.5      0   \n",
      "416         1308       3           Ware, Mr. Frederick    male   NaN      0   \n",
      "417         1309       3      Peter, Master. Michael J    male   NaN      1   \n",
      "\n",
      "     Parch              Ticket      Fare Cabin Embarked  \n",
      "413      0           A.5. 3236    8.0500   NaN        S  \n",
      "414      0            PC 17758  108.9000  C105        C  \n",
      "415      0  SOTON/O.Q. 3101262    7.2500   NaN        S  \n",
      "416      0              359309    8.0500   NaN        S  \n",
      "417      1                2668   22.3583   NaN        C  \n",
      "   PassengerId  Pclass                                          Name     Sex  \\\n",
      "0          892       3                              Kelly, Mr. James    male   \n",
      "1          893       3              Wilkes, Mrs. James (Ellen Needs)  female   \n",
      "2          894       2                     Myles, Mr. Thomas Francis    male   \n",
      "3          895       3                              Wirz, Mr. Albert    male   \n",
      "4          896       3  Hirvonen, Mrs. Alexander (Helga E Lindqvist)  female   \n",
      "\n",
      "    Age  SibSp  Parch   Ticket     Fare Cabin Embarked  \n",
      "0  34.5      0      0   330911   7.8292  None        Q  \n",
      "1  47.0      1      0   363272   7.0000  None        S  \n",
      "2  62.0      0      0   240276   9.6875  None        Q  \n",
      "3  27.0      0      0   315154   8.6625  None        S  \n",
      "4  22.0      1      1  3101298  12.2875  None        S  \n",
      "   Unnamed: 0  PassengerId  Pclass                              Name     Sex  \\\n",
      "0           0          892       3                  Kelly, Mr. James    male   \n",
      "1           1          893       3  Wilkes, Mrs. James (Ellen Needs)  female   \n",
      "2           2          894       2         Myles, Mr. Thomas Francis    male   \n",
      "\n",
      "    Age  SibSp  Parch  Ticket    Fare Cabin Embarked  \n",
      "0  34.5      0      0  330911  7.8292   NaN        Q  \n",
      "1  47.0      1      0  363272  7.0000   NaN        S  \n",
      "2  62.0      0      0  240276  9.6875   NaN        Q  \n"
     ]
    }
   ],
   "source": [
    "print(df3.head(3))\n",
    "print(df3.tail(5))\n",
    "print(df_json2.head(5))\n",
    "print(df_excel2.head(3))"
   ]
  },
  {
   "cell_type": "markdown",
   "id": "36c9b2f1",
   "metadata": {},
   "source": [
    "d) Append a few new passenger rows to each format (CSV, Excel, JSON). Reload each file and confirm that the newly appended rows are present."
   ]
  },
  {
   "cell_type": "code",
   "execution_count": 46,
   "id": "56cc929a",
   "metadata": {},
   "outputs": [
    {
     "name": "stdout",
     "output_type": "stream",
     "text": [
      "     PassengerId  Pclass                          Name     Sex   Age  SibSp  \\\n",
      "414         1306       1  Oliva y Ocana, Dona. Fermina  female  39.0      0   \n",
      "415         1307       3  Saether, Mr. Simon Sivertsen    male  38.5      0   \n",
      "416         1308       3           Ware, Mr. Frederick    male   NaN      0   \n",
      "417         1309       3      Peter, Master. Michael J    male   NaN      1   \n",
      "0            891       3               Abhishek kumar     male  21.0      1   \n",
      "\n",
      "     Parch              Ticket      Fare Cabin Embarked  \n",
      "414      0            PC 17758  108.9000  C105        C  \n",
      "415      0  SOTON/O.Q. 3101262    7.2500   NaN        S  \n",
      "416      0              359309    8.0500   NaN        S  \n",
      "417      1                2668   22.3583   NaN        C  \n",
      "0        0                   1    9.0000  cupa        S  \n"
     ]
    }
   ],
   "source": [
    "new_passanger=pd.DataFrame([{\n",
    "    'PassengerId':891,\n",
    "    'Pclass':3,\n",
    "    'Name': 'Abhishek kumar ',\n",
    "    'Sex': 'male',\n",
    "    'Age': 21.0,\n",
    "    'SibSp': 1,\n",
    "    'Parch': 0,\n",
    "    'Ticket': 1,\n",
    "    'Fare':  9.0,\n",
    "    'Cabin': 'cupa' ,\n",
    "    'Embarked': 'S'\n",
    "}])\n",
    "\n",
    "updated_df=pd.concat([df,new_passanger])\n",
    "print(updated_df.tail())"
   ]
  },
  {
   "cell_type": "code",
   "execution_count": null,
   "id": "203d6e5c",
   "metadata": {},
   "outputs": [],
   "source": [
    "updated_df.to_csv('appendedtest.csv')\n",
    "updated_df.to_excel('appendedtrain.xlsx')\n",
    "updated_df.to_json('appended.json',orient=\"records\", lines=False)"
   ]
  },
  {
   "cell_type": "code",
   "execution_count": null,
   "id": "773d6385",
   "metadata": {},
   "outputs": [
    {
     "data": {
      "text/html": [
       "<div>\n",
       "<style scoped>\n",
       "    .dataframe tbody tr th:only-of-type {\n",
       "        vertical-align: middle;\n",
       "    }\n",
       "\n",
       "    .dataframe tbody tr th {\n",
       "        vertical-align: top;\n",
       "    }\n",
       "\n",
       "    .dataframe thead th {\n",
       "        text-align: right;\n",
       "    }\n",
       "</style>\n",
       "<table border=\"1\" class=\"dataframe\">\n",
       "  <thead>\n",
       "    <tr style=\"text-align: right;\">\n",
       "      <th></th>\n",
       "      <th>PassengerId</th>\n",
       "      <th>Pclass</th>\n",
       "      <th>Name</th>\n",
       "      <th>Sex</th>\n",
       "      <th>Age</th>\n",
       "      <th>SibSp</th>\n",
       "      <th>Parch</th>\n",
       "      <th>Ticket</th>\n",
       "      <th>Fare</th>\n",
       "      <th>Cabin</th>\n",
       "      <th>Embarked</th>\n",
       "    </tr>\n",
       "  </thead>\n",
       "  <tbody>\n",
       "    <tr>\n",
       "      <th>414</th>\n",
       "      <td>1306</td>\n",
       "      <td>1</td>\n",
       "      <td>Oliva y Ocana, Dona. Fermina</td>\n",
       "      <td>female</td>\n",
       "      <td>39.0</td>\n",
       "      <td>0</td>\n",
       "      <td>0</td>\n",
       "      <td>PC 17758</td>\n",
       "      <td>108.9000</td>\n",
       "      <td>C105</td>\n",
       "      <td>C</td>\n",
       "    </tr>\n",
       "    <tr>\n",
       "      <th>415</th>\n",
       "      <td>1307</td>\n",
       "      <td>3</td>\n",
       "      <td>Saether, Mr. Simon Sivertsen</td>\n",
       "      <td>male</td>\n",
       "      <td>38.5</td>\n",
       "      <td>0</td>\n",
       "      <td>0</td>\n",
       "      <td>SOTON/O.Q. 3101262</td>\n",
       "      <td>7.2500</td>\n",
       "      <td>None</td>\n",
       "      <td>S</td>\n",
       "    </tr>\n",
       "    <tr>\n",
       "      <th>416</th>\n",
       "      <td>1308</td>\n",
       "      <td>3</td>\n",
       "      <td>Ware, Mr. Frederick</td>\n",
       "      <td>male</td>\n",
       "      <td>NaN</td>\n",
       "      <td>0</td>\n",
       "      <td>0</td>\n",
       "      <td>359309</td>\n",
       "      <td>8.0500</td>\n",
       "      <td>None</td>\n",
       "      <td>S</td>\n",
       "    </tr>\n",
       "    <tr>\n",
       "      <th>417</th>\n",
       "      <td>1309</td>\n",
       "      <td>3</td>\n",
       "      <td>Peter, Master. Michael J</td>\n",
       "      <td>male</td>\n",
       "      <td>NaN</td>\n",
       "      <td>1</td>\n",
       "      <td>1</td>\n",
       "      <td>2668</td>\n",
       "      <td>22.3583</td>\n",
       "      <td>None</td>\n",
       "      <td>C</td>\n",
       "    </tr>\n",
       "    <tr>\n",
       "      <th>418</th>\n",
       "      <td>891</td>\n",
       "      <td>3</td>\n",
       "      <td>Abhishek kumar</td>\n",
       "      <td>male</td>\n",
       "      <td>21.0</td>\n",
       "      <td>1</td>\n",
       "      <td>0</td>\n",
       "      <td>1</td>\n",
       "      <td>9.0000</td>\n",
       "      <td>cupa</td>\n",
       "      <td>S</td>\n",
       "    </tr>\n",
       "  </tbody>\n",
       "</table>\n",
       "</div>"
      ],
      "text/plain": [
       "     PassengerId  Pclass                          Name     Sex   Age  SibSp  \\\n",
       "414         1306       1  Oliva y Ocana, Dona. Fermina  female  39.0      0   \n",
       "415         1307       3  Saether, Mr. Simon Sivertsen    male  38.5      0   \n",
       "416         1308       3           Ware, Mr. Frederick    male   NaN      0   \n",
       "417         1309       3      Peter, Master. Michael J    male   NaN      1   \n",
       "418          891       3               Abhishek kumar     male  21.0      1   \n",
       "\n",
       "     Parch              Ticket      Fare Cabin Embarked  \n",
       "414      0            PC 17758  108.9000  C105        C  \n",
       "415      0  SOTON/O.Q. 3101262    7.2500  None        S  \n",
       "416      0              359309    8.0500  None        S  \n",
       "417      1                2668   22.3583  None        C  \n",
       "418      0                   1    9.0000  cupa        S  "
      ]
     },
     "execution_count": 65,
     "metadata": {},
     "output_type": "execute_result"
    }
   ],
   "source": [
    "df5=pd.read_csv('appendedtest.csv')\n",
    "df6=pd.read_excel('appendedtrain.xlsx')\n",
    "df7=pd.read_json('appended.json')\n",
    "\n",
    "df5.tail()\n",
    "df6.tail()\n",
    "df7.tail()\n",
    "\n"
   ]
  },
  {
   "cell_type": "markdown",
   "id": "1115331b",
   "metadata": {},
   "source": [
    "e) Briefly compare the structural differences among CSV, Excel, and JSON (e.g., schema\n",
    "fidelity, metadata, readability, typical use-cases)."
   ]
  }
 ],
 "metadata": {
  "kernelspec": {
   "display_name": "base",
   "language": "python",
   "name": "python3"
  },
  "language_info": {
   "codemirror_mode": {
    "name": "ipython",
    "version": 3
   },
   "file_extension": ".py",
   "mimetype": "text/x-python",
   "name": "python",
   "nbconvert_exporter": "python",
   "pygments_lexer": "ipython3",
   "version": "3.13.5"
  }
 },
 "nbformat": 4,
 "nbformat_minor": 5
}
